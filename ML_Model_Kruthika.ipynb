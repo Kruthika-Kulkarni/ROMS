{
 "cells": [
  {
   "cell_type": "code",
   "execution_count": 1,
   "id": "15baac63",
   "metadata": {},
   "outputs": [],
   "source": [
    "# import packages\n",
    "import pandas as pd\n",
    "from datetime import datetime, timedelta"
   ]
  },
  {
   "cell_type": "code",
   "execution_count": 2,
   "id": "861901a9",
   "metadata": {},
   "outputs": [],
   "source": [
    "# Pull the data\n",
    "train_df = pd.read_csv(\"/Users/kruthika.kulkarni/Downloads/train.zip\")"
   ]
  },
  {
   "cell_type": "markdown",
   "id": "ed28a226",
   "metadata": {},
   "source": [
    "### Initial data understanding"
   ]
  },
  {
   "cell_type": "code",
   "execution_count": 3,
   "id": "032e6261",
   "metadata": {},
   "outputs": [
    {
     "data": {
      "text/html": [
       "<div>\n",
       "<style scoped>\n",
       "    .dataframe tbody tr th:only-of-type {\n",
       "        vertical-align: middle;\n",
       "    }\n",
       "\n",
       "    .dataframe tbody tr th {\n",
       "        vertical-align: top;\n",
       "    }\n",
       "\n",
       "    .dataframe thead th {\n",
       "        text-align: right;\n",
       "    }\n",
       "</style>\n",
       "<table border=\"1\" class=\"dataframe\">\n",
       "  <thead>\n",
       "    <tr style=\"text-align: right;\">\n",
       "      <th></th>\n",
       "      <th>date</th>\n",
       "      <th>store_nbr</th>\n",
       "      <th>family</th>\n",
       "      <th>sales</th>\n",
       "      <th>onpromotion</th>\n",
       "    </tr>\n",
       "  </thead>\n",
       "  <tbody>\n",
       "    <tr>\n",
       "      <th>0</th>\n",
       "      <td>2013-01-01</td>\n",
       "      <td>1</td>\n",
       "      <td>AUTOMOTIVE</td>\n",
       "      <td>0.0</td>\n",
       "      <td>0</td>\n",
       "    </tr>\n",
       "    <tr>\n",
       "      <th>1</th>\n",
       "      <td>2013-01-01</td>\n",
       "      <td>1</td>\n",
       "      <td>BABY CARE</td>\n",
       "      <td>0.0</td>\n",
       "      <td>0</td>\n",
       "    </tr>\n",
       "    <tr>\n",
       "      <th>2</th>\n",
       "      <td>2013-01-01</td>\n",
       "      <td>1</td>\n",
       "      <td>BEAUTY</td>\n",
       "      <td>0.0</td>\n",
       "      <td>0</td>\n",
       "    </tr>\n",
       "    <tr>\n",
       "      <th>3</th>\n",
       "      <td>2013-01-01</td>\n",
       "      <td>1</td>\n",
       "      <td>BEVERAGES</td>\n",
       "      <td>0.0</td>\n",
       "      <td>0</td>\n",
       "    </tr>\n",
       "    <tr>\n",
       "      <th>4</th>\n",
       "      <td>2013-01-01</td>\n",
       "      <td>1</td>\n",
       "      <td>BOOKS</td>\n",
       "      <td>0.0</td>\n",
       "      <td>0</td>\n",
       "    </tr>\n",
       "  </tbody>\n",
       "</table>\n",
       "</div>"
      ],
      "text/plain": [
       "         date  store_nbr      family  sales  onpromotion\n",
       "0  2013-01-01          1  AUTOMOTIVE    0.0            0\n",
       "1  2013-01-01          1   BABY CARE    0.0            0\n",
       "2  2013-01-01          1      BEAUTY    0.0            0\n",
       "3  2013-01-01          1   BEVERAGES    0.0            0\n",
       "4  2013-01-01          1       BOOKS    0.0            0"
      ]
     },
     "execution_count": 3,
     "metadata": {},
     "output_type": "execute_result"
    }
   ],
   "source": [
    "train_df.head()"
   ]
  },
  {
   "cell_type": "code",
   "execution_count": 6,
   "id": "654ca533",
   "metadata": {},
   "outputs": [
    {
     "data": {
      "text/html": [
       "<div>\n",
       "<style scoped>\n",
       "    .dataframe tbody tr th:only-of-type {\n",
       "        vertical-align: middle;\n",
       "    }\n",
       "\n",
       "    .dataframe tbody tr th {\n",
       "        vertical-align: top;\n",
       "    }\n",
       "\n",
       "    .dataframe thead th {\n",
       "        text-align: right;\n",
       "    }\n",
       "</style>\n",
       "<table border=\"1\" class=\"dataframe\">\n",
       "  <thead>\n",
       "    <tr style=\"text-align: right;\">\n",
       "      <th></th>\n",
       "      <th>date</th>\n",
       "      <th>store_nbr</th>\n",
       "      <th>family</th>\n",
       "      <th>sales</th>\n",
       "      <th>onpromotion</th>\n",
       "    </tr>\n",
       "  </thead>\n",
       "  <tbody>\n",
       "    <tr>\n",
       "      <th>1111435</th>\n",
       "      <td>2017-08-15</td>\n",
       "      <td>9</td>\n",
       "      <td>POULTRY</td>\n",
       "      <td>438.133</td>\n",
       "      <td>0</td>\n",
       "    </tr>\n",
       "    <tr>\n",
       "      <th>1111436</th>\n",
       "      <td>2017-08-15</td>\n",
       "      <td>9</td>\n",
       "      <td>PREPARED FOODS</td>\n",
       "      <td>154.553</td>\n",
       "      <td>1</td>\n",
       "    </tr>\n",
       "    <tr>\n",
       "      <th>1111437</th>\n",
       "      <td>2017-08-15</td>\n",
       "      <td>9</td>\n",
       "      <td>PRODUCE</td>\n",
       "      <td>2419.729</td>\n",
       "      <td>148</td>\n",
       "    </tr>\n",
       "    <tr>\n",
       "      <th>1111438</th>\n",
       "      <td>2017-08-15</td>\n",
       "      <td>9</td>\n",
       "      <td>SCHOOL AND OFFICE SUPPLIES</td>\n",
       "      <td>121.000</td>\n",
       "      <td>8</td>\n",
       "    </tr>\n",
       "    <tr>\n",
       "      <th>1111439</th>\n",
       "      <td>2017-08-15</td>\n",
       "      <td>9</td>\n",
       "      <td>SEAFOOD</td>\n",
       "      <td>16.000</td>\n",
       "      <td>0</td>\n",
       "    </tr>\n",
       "  </tbody>\n",
       "</table>\n",
       "</div>"
      ],
      "text/plain": [
       "               date  store_nbr                      family     sales  \\\n",
       "1111435  2017-08-15          9                     POULTRY   438.133   \n",
       "1111436  2017-08-15          9              PREPARED FOODS   154.553   \n",
       "1111437  2017-08-15          9                     PRODUCE  2419.729   \n",
       "1111438  2017-08-15          9  SCHOOL AND OFFICE SUPPLIES   121.000   \n",
       "1111439  2017-08-15          9                     SEAFOOD    16.000   \n",
       "\n",
       "         onpromotion  \n",
       "1111435            0  \n",
       "1111436            1  \n",
       "1111437          148  \n",
       "1111438            8  \n",
       "1111439            0  "
      ]
     },
     "execution_count": 6,
     "metadata": {},
     "output_type": "execute_result"
    }
   ],
   "source": [
    "train_df.tail()"
   ]
  },
  {
   "cell_type": "code",
   "execution_count": 26,
   "id": "f6a999f9",
   "metadata": {},
   "outputs": [
    {
     "data": {
      "text/plain": [
       "date           1111440\n",
       "store_nbr      1111440\n",
       "family         1111440\n",
       "sales          1111440\n",
       "onpromotion    1111440\n",
       "dtype: int64"
      ]
     },
     "execution_count": 26,
     "metadata": {},
     "output_type": "execute_result"
    }
   ],
   "source": [
    "train_df.count()"
   ]
  },
  {
   "cell_type": "code",
   "execution_count": 5,
   "id": "1227bc6b",
   "metadata": {},
   "outputs": [
    {
     "data": {
      "text/plain": [
       "date            object\n",
       "store_nbr        int64\n",
       "family          object\n",
       "sales          float64\n",
       "onpromotion      int64\n",
       "dtype: object"
      ]
     },
     "execution_count": 5,
     "metadata": {},
     "output_type": "execute_result"
    }
   ],
   "source": [
    "train_df.dtypes"
   ]
  },
  {
   "cell_type": "code",
   "execution_count": 11,
   "id": "cd2a7627",
   "metadata": {},
   "outputs": [
    {
     "data": {
      "text/plain": [
       "(1111440, 5)"
      ]
     },
     "execution_count": 11,
     "metadata": {},
     "output_type": "execute_result"
    }
   ],
   "source": [
    "train_df.shape"
   ]
  },
  {
   "cell_type": "code",
   "execution_count": 13,
   "id": "2be41e19",
   "metadata": {},
   "outputs": [],
   "source": [
    "\"\"\"\n",
    "Convert the store_nbr to string to be able to differentiate a identifier from the numerical data. \n",
    "This step has no consequence to the model. \n",
    "However, it is a practise i follow to ensure, I do not use this in model\n",
    "\"\"\"\n",
    "\n",
    "train_df['store_nbr'] = train_df['store_nbr'].astype(str)"
   ]
  },
  {
   "cell_type": "code",
   "execution_count": 10,
   "id": "c1d56c9f",
   "metadata": {},
   "outputs": [
    {
     "name": "stdout",
     "output_type": "stream",
     "text": [
      "The data starts on 2013-01-01 00:00:00\n",
      "The data ends on 2017-08-15 00:00:00\n"
     ]
    }
   ],
   "source": [
    "# Convert date to the correct datetime format\n",
    "train_df['date'] = pd.to_datetime(train_df['date'], format = '%Y-%m-%d')\n",
    "\n",
    "# Understand the number of days of data\n",
    "print(f\"The data starts on {train_df['date'].min()}\")\n",
    "print(f\"The data ends on {train_df['date'].max()}\")"
   ]
  },
  {
   "cell_type": "code",
   "execution_count": 14,
   "id": "251a0fa2",
   "metadata": {},
   "outputs": [
    {
     "data": {
      "text/plain": [
       "date           datetime64[ns]\n",
       "store_nbr              object\n",
       "family                 object\n",
       "sales                 float64\n",
       "onpromotion             int64\n",
       "dtype: object"
      ]
     },
     "execution_count": 14,
     "metadata": {},
     "output_type": "execute_result"
    }
   ],
   "source": [
    "train_df.dtypes"
   ]
  },
  {
   "cell_type": "code",
   "execution_count": 23,
   "id": "25c0ae49",
   "metadata": {},
   "outputs": [
    {
     "name": "stdout",
     "output_type": "stream",
     "text": [
      "Values in onpromotion are \n",
      " 0      890297\n",
      "1       63745\n",
      "2       27875\n",
      "3       15743\n",
      "4       10968\n",
      "        ...  \n",
      "247         1\n",
      "244         1\n",
      "486         1\n",
      "467         1\n",
      "519         1\n",
      "Name: onpromotion, Length: 250, dtype: int64\n",
      "\n",
      "Values in family are \n",
      " AUTOMOTIVE                    33680\n",
      "HOME APPLIANCES               33680\n",
      "SCHOOL AND OFFICE SUPPLIES    33680\n",
      "PRODUCE                       33680\n",
      "PREPARED FOODS                33680\n",
      "POULTRY                       33680\n",
      "PLAYERS AND ELECTRONICS       33680\n",
      "PET SUPPLIES                  33680\n",
      "PERSONAL CARE                 33680\n",
      "MEATS                         33680\n",
      "MAGAZINES                     33680\n",
      "LIQUOR,WINE,BEER              33680\n",
      "LINGERIE                      33680\n",
      "LAWN AND GARDEN               33680\n",
      "LADIESWEAR                    33680\n",
      "HOME CARE                     33680\n",
      "HOME AND KITCHEN II           33680\n",
      "BABY CARE                     33680\n",
      "HOME AND KITCHEN I            33680\n",
      "HARDWARE                      33680\n",
      "GROCERY II                    33680\n",
      "GROCERY I                     33680\n",
      "FROZEN FOODS                  33680\n",
      "EGGS                          33680\n",
      "DELI                          33680\n",
      "DAIRY                         33680\n",
      "CLEANING                      33680\n",
      "CELEBRATION                   33680\n",
      "BREAD/BAKERY                  33680\n",
      "BOOKS                         33680\n",
      "BEVERAGES                     33680\n",
      "BEAUTY                        33680\n",
      "SEAFOOD                       33680\n",
      "Name: family, dtype: int64\n"
     ]
    }
   ],
   "source": [
    "# Understand the values in onpromotion, family\n",
    "print(f\"Values in onpromotion are \\n {train_df['onpromotion'].value_counts()}\")\n",
    "\n",
    "print(f\"\\nValues in family are \\n {train_df['family'].value_counts()}\")"
   ]
  },
  {
   "cell_type": "code",
   "execution_count": 21,
   "id": "6bc2808a",
   "metadata": {},
   "outputs": [
    {
     "data": {
      "text/plain": [
       "0.4368048445084703"
      ]
     },
     "execution_count": 21,
     "metadata": {},
     "output_type": "execute_result"
    }
   ],
   "source": [
    "train_df[['sales','onpromotion']].corr().loc['sales','onpromotion']"
   ]
  },
  {
   "cell_type": "code",
   "execution_count": 22,
   "id": "6cb91de7",
   "metadata": {},
   "outputs": [
    {
     "name": "stdout",
     "output_type": "stream",
     "text": [
      "For family: AUTOMOTIVE, the correlation between sales and onpromotion is     0.11561230696645293\n",
      "For family: BABY CARE, the correlation between sales and onpromotion is     0.032358189993436134\n",
      "For family: BEAUTY, the correlation between sales and onpromotion is     0.32458143158725566\n",
      "For family: BEVERAGES, the correlation between sales and onpromotion is     0.3978158515608012\n",
      "For family: BOOKS, the correlation between sales and onpromotion is     nan\n",
      "For family: BREAD/BAKERY, the correlation between sales and onpromotion is     0.13133109993406888\n",
      "For family: CELEBRATION, the correlation between sales and onpromotion is     0.10068087236501518\n",
      "For family: CLEANING, the correlation between sales and onpromotion is     0.1560490329261347\n",
      "For family: DAIRY, the correlation between sales and onpromotion is     0.09337531599426786\n",
      "For family: DELI, the correlation between sales and onpromotion is     0.14903449464607726\n",
      "For family: EGGS, the correlation between sales and onpromotion is     0.1406460190068999\n",
      "For family: FROZEN FOODS, the correlation between sales and onpromotion is     0.10677345245187099\n",
      "For family: GROCERY I, the correlation between sales and onpromotion is     0.2794295123263374\n",
      "For family: GROCERY II, the correlation between sales and onpromotion is     0.001989445788965289\n",
      "For family: HARDWARE, the correlation between sales and onpromotion is     0.03474309790373762\n",
      "For family: HOME AND KITCHEN I, the correlation between sales and onpromotion is     0.25083590784955034\n",
      "For family: HOME AND KITCHEN II, the correlation between sales and onpromotion is     0.35911087059286106\n",
      "For family: HOME APPLIANCES, the correlation between sales and onpromotion is     0.006232892569294552\n",
      "For family: HOME CARE, the correlation between sales and onpromotion is     0.39045168003339864\n",
      "For family: LADIESWEAR, the correlation between sales and onpromotion is     0.015779139992934652\n",
      "For family: LAWN AND GARDEN, the correlation between sales and onpromotion is     0.31282698867675424\n",
      "For family: LINGERIE, the correlation between sales and onpromotion is     0.06471626164901877\n",
      "For family: LIQUOR,WINE,BEER, the correlation between sales and onpromotion is     0.2351078991978136\n",
      "For family: MAGAZINES, the correlation between sales and onpromotion is     0.008447431767578012\n",
      "For family: MEATS, the correlation between sales and onpromotion is     0.3588932318298786\n",
      "For family: PERSONAL CARE, the correlation between sales and onpromotion is     0.2274590440787939\n",
      "For family: PET SUPPLIES, the correlation between sales and onpromotion is     0.23996202091068886\n",
      "For family: PLAYERS AND ELECTRONICS, the correlation between sales and onpromotion is     0.043329313041144964\n",
      "For family: POULTRY, the correlation between sales and onpromotion is     0.250030070722809\n",
      "For family: PREPARED FOODS, the correlation between sales and onpromotion is     -0.010434091868934374\n",
      "For family: PRODUCE, the correlation between sales and onpromotion is     0.368848234200151\n",
      "For family: SCHOOL AND OFFICE SUPPLIES, the correlation between sales and onpromotion is     0.5542404710689827\n",
      "For family: SEAFOOD, the correlation between sales and onpromotion is     0.3049059919487383\n"
     ]
    }
   ],
   "source": [
    "# Get the correlation between sales and onpromotion for each of the family of products\n",
    "product_family = train_df['family'].unique()\n",
    "for family in product_family:\n",
    "    temp_df = train_df[train_df['family'] == family]\n",
    "    print(f\"For family: {family}, the correlation between sales and onpromotion is \\\n",
    "    {temp_df[['sales','onpromotion']].corr().loc['sales','onpromotion']}\")"
   ]
  },
  {
   "cell_type": "code",
   "execution_count": 27,
   "id": "fcc746cb",
   "metadata": {},
   "outputs": [
    {
     "data": {
      "text/plain": [
       "'\\nGraphical understanding of data\\nOnly to be able to visually understand the two columns of onpromotion and sales, \\nI have standardised the data here\\n'"
      ]
     },
     "execution_count": 27,
     "metadata": {},
     "output_type": "execute_result"
    }
   ],
   "source": [
    "\"\"\"\n",
    "Graphical understanding of data\n",
    "Only to be able to visually understand the two columns of onpromotion and sales, \n",
    "I have standardised the data here\n",
    "\"\"\"\n",
    "\n"
   ]
  },
  {
   "cell_type": "code",
   "execution_count": null,
   "id": "bd64a579",
   "metadata": {},
   "outputs": [],
   "source": []
  }
 ],
 "metadata": {
  "kernelspec": {
   "display_name": "Python [conda env:time_series]",
   "language": "python",
   "name": "conda-env-time_series-py"
  },
  "language_info": {
   "codemirror_mode": {
    "name": "ipython",
    "version": 3
   },
   "file_extension": ".py",
   "mimetype": "text/x-python",
   "name": "python",
   "nbconvert_exporter": "python",
   "pygments_lexer": "ipython3",
   "version": "3.8.13"
  }
 },
 "nbformat": 4,
 "nbformat_minor": 5
}
